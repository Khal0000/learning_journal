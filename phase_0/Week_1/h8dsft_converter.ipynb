{
 "cells": [
  {
   "cell_type": "markdown",
   "metadata": {},
   "source": [
    "#1 konversi suhu Celcius-Kelvin or Kelvin Celcius"
   ]
  },
  {
   "cell_type": "code",
   "execution_count": 19,
   "metadata": {},
   "outputs": [
    {
     "name": "stdout",
     "output_type": "stream",
     "text": [
      "error!!! harus dari Celcius atau Kelvin\n"
     ]
    }
   ],
   "source": [
    "def konversi_suhu(skala):   #men-declare fungsi konversi_suhu\n",
    "    if skala == \"C\":    #melakukan pengecekan apabila input dari user sesuai, yaitu \"C\", maka akan menjalankan program bagian if ini\n",
    "        suhuC=float(input(\"masukkan suhu Celcius : \"))  #input nilai suhu dari user\n",
    "        suhuK=round(suhuC+273.15,2) #formula konversi suhu C-K\n",
    "        print(f\"{suhuC} derajat Celcius sama dengan {suhuK} derajat Kelvin.\")   #output\n",
    "    elif skala == \"K\":  #pengecekan kembali input dari user jikia bener user meng-input-kan \"K\", maka program elif berjalan\n",
    "        suhuK=float(input(\"masukkan suhu Kelvin : \"))   #input user untuk memasukan besar suhu dalam Kelvin\n",
    "        suhuC=round(suhuK-273.15,2) #formula konversi suhu K-C\n",
    "        print(f\"{suhuK} derajat Kelvin sama dengan {suhuC} derajat Celcius\")    #output nilai konversi\n",
    "    else:\n",
    "        print(\"error!!! harus dari Celcius atau Kelvin\")    #Apabila kedua perintah diatas tidak sesuai, maka perintah ini yang akan berjalan\n",
    "\n",
    "\n",
    "skala=str(input(\"Konversi suhu Celcius atau Kelvin (ketik C/K): \")) #input awal dari user\n",
    "konversi_suhu(skala) #menjalankan fungsi \n"
   ]
  },
  {
   "cell_type": "markdown",
   "metadata": {},
   "source": [
    "#2 Konversi suhu"
   ]
  },
  {
   "cell_type": "code",
   "execution_count": 2,
   "metadata": {},
   "outputs": [
    {
     "name": "stdout",
     "output_type": "stream",
     "text": [
      "1000.0 derajat Fahrenheit sama dengan 537.78 derajat Celcius.\n"
     ]
    }
   ],
   "source": [
    "def konversi_suhuF(skala0,skala1):  #Melakukan deklarasi fungsi konversi_suhuF yang memiliki 2 argumen (skala0,skala1) yang value-nya merupakan input dari user untuk memilih temperatur awal(skala0) dan temperatur akhir atau hasil konversi(skala1)\n",
    "    if skala0 == \"C\":   #pengecekan argumen1 apabila input berupa \"C\", maka program akan menajalankan bagian ini\n",
    "        if skala1 == \"K\":   #pengecekan argumen2 apabila input berupa \"K\", maka program akan melanjutkan ke bagian ini\n",
    "            suhu0=float(input(\"masukkan suhu Celcius : \"))  #input dari user berapa besar suhu Celcius yang mau dikonversi\n",
    "            suhu1=round(suhu0+273.15,2) #formula konversi suhu Celcius ke Kelvin\n",
    "            print(f\"{suhu0} derajat Celcius sama dengan {suhu1} derajat Kelvin.\")   #output hasil konversi suhu dari derajat C ke K\n",
    "        elif skala1 == \"F\": #pengecekan argumen2 apabila user menginputkan \"F\", makan bagian ini yang akan dijalankan oleh program\n",
    "            suhu0=float(input(\"masukkan suhu Celcius : \"))  #input besaran suhu celcius yang akan dikonversikan\n",
    "            suhu1=round((suhu0*9/5)+32,2)   #formula konversi\n",
    "            print(f\"{suhu0} derajat Celcius sama dengan {suhu1} derajat Fahrenheit.\")   #output hasil konversi dari derajat C ke F\n",
    "        else:\n",
    "            print(\"ERROR!!!\")   #apabila input user tidak sesuai, maka akan program akan mengirimkan pesan error\n",
    "    elif skala0 == \"K\": #merupakan kondisi kedua dalam pengecekan argumen1\n",
    "        if skala1 == \"C\":   #pengecekan argumen2 untuk kondisi konversi ke Celcius \n",
    "            suhu0=float(input(\"masukkan suhu Kelvin : \"))   #input besaran suhu\n",
    "            suhu1=round(suhu0-273.15,2) #formula konversi\n",
    "            print(f\"{suhu0} derajat Kelvin sama dengan {suhu1} derajat Celcius.\")   #output hasil\n",
    "        elif skala1 == \"F\": ##pengecekan argumen2 untuk kondisi konversi ke Fahrenheit \n",
    "            suhu0=float(input(\"masukkan suhu Kelvin : \")) #input user\n",
    "            suhu1=round(((suhu0-273.15)*9/5)+32,2)  #formula konversi\n",
    "            print(f\"{suhu0} derajat Kelvin sama dengan {suhu1} derajat Fahrenheit.\")    #output hasil\n",
    "        else:\n",
    "            print(\"ERROR!!!\")   #pesan error jika ada input user yang tidak sesuai\n",
    "    elif skala0 == \"F\": #merupakan kondisi ketiga, yaitu untuk suhu awal berskala F\n",
    "        if skala1 == \"C\":   #pengecekan untuk mengkonversi suhu awal F ke C\n",
    "            suhu0=float(input(\"masukkan suhu Fahrenheit : \"))   #input besaran nilai suhu F yang akan dikonversikan\n",
    "            suhu1=round((suhu0-32)*5/9,2)   #formula konversi\n",
    "            print(f\"{suhu0} derajat Fahrenheit sama dengan {suhu1} derajat Celcius.\")   #output hasil\n",
    "        elif skala1 == \"K\": #pengecekan untuk mengkonversi suhu awal F ke K\n",
    "            suhu0=float(input(\"masukkan suhu Fahrenheit :\")) #input besaran suhu F yang akan dikonversikan\n",
    "            suhu1=round(((suhu0-32)*5/9)+273.15,2)  #formula konversi\n",
    "            print(f\"{suhu0} derajat Fahrenheit sama dengan {suhu1} derajat Kelvin.\")    #output hasil konversi\n",
    "        else:\n",
    "            print(\"ERROR!!!\") #pesan error jika ada masukan ada yang tidak seusai dengan kondisi diatas\n",
    "    else:\n",
    "        print(\"ERROR!!! silahkan masukkan ulang (C/K/F)\") #pesan error apabila ada input ada yang tidak sesuai\n",
    "\n",
    "skala0=input(\"Pilih skala temperature awal (C/K/F): \")  #input dari user untuk memilih skala suhu awal yang akan dikonversikan\n",
    "skala1=input(\"pilih skala temperature akhir (C/K/F): \") #input dari user untuk memilih skala suhu akhir atau skala suhu hasil konversi yang diinginkan\n",
    "konversi_suhuF(skala0,skala1)   #menjalankan fungsi yang telah dibuat"
   ]
  },
  {
   "cell_type": "code",
   "execution_count": 21,
   "metadata": {},
   "outputs": [],
   "source": [
    "#skala0=input(\"silahkan masukkan nomor 1 atau 2 : \\n\\t\\t1. konversi Celcius-Fahrenheit \\n\\t\\t2. konversi Kelvin-fahrenheit\")"
   ]
  },
  {
   "cell_type": "markdown",
   "metadata": {},
   "source": []
  }
 ],
 "metadata": {
  "interpreter": {
   "hash": "37eb40c3388cfde35488e2d005b0d69ca91ddeff8a429754d4da636d3f888e5e"
  },
  "kernelspec": {
   "display_name": "Python 3.9.7 ('base')",
   "language": "python",
   "name": "python3"
  },
  "language_info": {
   "codemirror_mode": {
    "name": "ipython",
    "version": 3
   },
   "file_extension": ".py",
   "mimetype": "text/x-python",
   "name": "python",
   "nbconvert_exporter": "python",
   "pygments_lexer": "ipython3",
   "version": "3.9.7"
  },
  "orig_nbformat": 4
 },
 "nbformat": 4,
 "nbformat_minor": 2
}
